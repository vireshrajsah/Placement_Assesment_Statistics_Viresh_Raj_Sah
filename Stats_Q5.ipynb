{
 "cells": [
  {
   "cell_type": "markdown",
   "metadata": {},
   "source": [
    "# Q-5. \n",
    "A certain city has two taxi companies: Company A has 80% of the taxis and Company B has 20% of the taxis. Company A's taxis have a 95% success rate for picking up passengers on time, while Company B's taxis have a 90% success rate. If a randomly\n",
    "selected taxi is late, what is the probability that it belongs to Company A?"
   ]
  },
  {
   "cell_type": "code",
   "execution_count": 1,
   "metadata": {},
   "outputs": [
    {
     "name": "stdout",
     "output_type": "stream",
     "text": [
      "Probability that a late taxi belongs to Company A: 0.6666666666666666\n"
     ]
    }
   ],
   "source": [
    "P_A = 0.8              # P(A)\n",
    "P_B = 0.2              # P(B)\n",
    "P_L_given_A = 0.05     # P(Late|A)\n",
    "P_L_given_B = 0.10     # P(Late|B)\n",
    "\n",
    "# Calculating P(L) --> Probably of taxt getting Late\n",
    "P_L = P_A * P_L_given_A + P_B * P_L_given_B\n",
    "\n",
    "# Calculating P(A|L) using bays theorem\n",
    "P_A_given_L = (P_A * P_L_given_A) / P_L\n",
    "\n",
    "print(\"Probability that a late taxi belongs to Company A:\", P_A_given_L)"
   ]
  }
 ],
 "metadata": {
  "kernelspec": {
   "display_name": "Python 3",
   "language": "python",
   "name": "python3"
  },
  "language_info": {
   "codemirror_mode": {
    "name": "ipython",
    "version": 3
   },
   "file_extension": ".py",
   "mimetype": "text/x-python",
   "name": "python",
   "nbconvert_exporter": "python",
   "pygments_lexer": "ipython3",
   "version": "3.8.5"
  }
 },
 "nbformat": 4,
 "nbformat_minor": 4
}
