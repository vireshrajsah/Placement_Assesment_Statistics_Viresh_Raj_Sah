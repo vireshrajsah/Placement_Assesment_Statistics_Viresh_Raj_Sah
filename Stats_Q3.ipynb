{
 "cells": [
  {
   "cell_type": "markdown",
   "metadata": {},
   "source": [
    "# Q-3. \n",
    "Consider the ‘Blood Pressure Before’ and ‘Blood Pressure After’ columns from the data and calculate the following:\n",
    "\n",
    "Link: https://drive.google.com/file/d/1mCjtYHiX--mMUjicuaP2gH3k-SnFxt8Y/view?usp=share_\n",
    "\n",
    "* Measure the dispersion in both and interpret the results.\n",
    "* Calculate mean and 5% confidence interval and plot it in a graph\n",
    "* Calculate the Mean absolute deviation and Standard deviation and interpret the results.\n",
    "* Calculate the correlation coefficient and check the significance of it at 1% level of significance."
   ]
  },
  {
   "cell_type": "code",
   "execution_count": 43,
   "metadata": {},
   "outputs": [],
   "source": [
    "import pandas as pd\n",
    "import numpy as np\n",
    "import statistics\n",
    "import scipy.stats as stats\n",
    "import seaborn as sns\n",
    "import matplotlib.pyplot as plt\n",
    "from warnings import filterwarnings\n",
    "filterwarnings('ignore')"
   ]
  },
  {
   "cell_type": "markdown",
   "metadata": {},
   "source": [
    "## Reading Data"
   ]
  },
  {
   "cell_type": "markdown",
   "metadata": {},
   "source": [
    "The csv file in the given drive link was downloaded as *data.csv* and was loaded as a DataFrame"
   ]
  },
  {
   "cell_type": "code",
   "execution_count": 3,
   "metadata": {},
   "outputs": [
    {
     "data": {
      "text/html": [
       "<div>\n",
       "<style scoped>\n",
       "    .dataframe tbody tr th:only-of-type {\n",
       "        vertical-align: middle;\n",
       "    }\n",
       "\n",
       "    .dataframe tbody tr th {\n",
       "        vertical-align: top;\n",
       "    }\n",
       "\n",
       "    .dataframe thead th {\n",
       "        text-align: right;\n",
       "    }\n",
       "</style>\n",
       "<table border=\"1\" class=\"dataframe\">\n",
       "  <thead>\n",
       "    <tr style=\"text-align: right;\">\n",
       "      <th></th>\n",
       "      <th>Patient ID</th>\n",
       "      <th>Blood Pressure Before (mmHg)</th>\n",
       "      <th>Blood Pressure After (mmHg)</th>\n",
       "    </tr>\n",
       "  </thead>\n",
       "  <tbody>\n",
       "    <tr>\n",
       "      <th>0</th>\n",
       "      <td>1</td>\n",
       "      <td>130</td>\n",
       "      <td>120</td>\n",
       "    </tr>\n",
       "    <tr>\n",
       "      <th>1</th>\n",
       "      <td>2</td>\n",
       "      <td>142</td>\n",
       "      <td>135</td>\n",
       "    </tr>\n",
       "    <tr>\n",
       "      <th>2</th>\n",
       "      <td>3</td>\n",
       "      <td>120</td>\n",
       "      <td>118</td>\n",
       "    </tr>\n",
       "    <tr>\n",
       "      <th>3</th>\n",
       "      <td>4</td>\n",
       "      <td>135</td>\n",
       "      <td>127</td>\n",
       "    </tr>\n",
       "    <tr>\n",
       "      <th>4</th>\n",
       "      <td>5</td>\n",
       "      <td>148</td>\n",
       "      <td>140</td>\n",
       "    </tr>\n",
       "    <tr>\n",
       "      <th>...</th>\n",
       "      <td>...</td>\n",
       "      <td>...</td>\n",
       "      <td>...</td>\n",
       "    </tr>\n",
       "    <tr>\n",
       "      <th>95</th>\n",
       "      <td>96</td>\n",
       "      <td>136</td>\n",
       "      <td>129</td>\n",
       "    </tr>\n",
       "    <tr>\n",
       "      <th>96</th>\n",
       "      <td>97</td>\n",
       "      <td>143</td>\n",
       "      <td>137</td>\n",
       "    </tr>\n",
       "    <tr>\n",
       "      <th>97</th>\n",
       "      <td>98</td>\n",
       "      <td>127</td>\n",
       "      <td>123</td>\n",
       "    </tr>\n",
       "    <tr>\n",
       "      <th>98</th>\n",
       "      <td>99</td>\n",
       "      <td>139</td>\n",
       "      <td>135</td>\n",
       "    </tr>\n",
       "    <tr>\n",
       "      <th>99</th>\n",
       "      <td>100</td>\n",
       "      <td>135</td>\n",
       "      <td>130</td>\n",
       "    </tr>\n",
       "  </tbody>\n",
       "</table>\n",
       "<p>100 rows × 3 columns</p>\n",
       "</div>"
      ],
      "text/plain": [
       "    Patient ID   Blood Pressure Before (mmHg)   Blood Pressure After (mmHg)\n",
       "0            1                            130                           120\n",
       "1            2                            142                           135\n",
       "2            3                            120                           118\n",
       "3            4                            135                           127\n",
       "4            5                            148                           140\n",
       "..         ...                            ...                           ...\n",
       "95          96                            136                           129\n",
       "96          97                            143                           137\n",
       "97          98                            127                           123\n",
       "98          99                            139                           135\n",
       "99         100                            135                           130\n",
       "\n",
       "[100 rows x 3 columns]"
      ]
     },
     "execution_count": 3,
     "metadata": {},
     "output_type": "execute_result"
    }
   ],
   "source": [
    "df = pd.read_csv('data.csv')\n",
    "df"
   ]
  },
  {
   "cell_type": "code",
   "execution_count": 8,
   "metadata": {},
   "outputs": [
    {
     "data": {
      "text/plain": [
       "Index(['Patient ID', ' Blood Pressure Before (mmHg)',\n",
       "       ' Blood Pressure After (mmHg)'],\n",
       "      dtype='object')"
      ]
     },
     "execution_count": 8,
     "metadata": {},
     "output_type": "execute_result"
    }
   ],
   "source": [
    "df.columns"
   ]
  },
  {
   "cell_type": "markdown",
   "metadata": {},
   "source": [
    "## Answers:"
   ]
  },
  {
   "cell_type": "code",
   "execution_count": 18,
   "metadata": {},
   "outputs": [],
   "source": [
    "before = ' Blood Pressure Before (mmHg)'\n",
    "after = ' Blood Pressure After (mmHg)'\n",
    "\n",
    "samp_mean_before = np.mean(df[before])\n",
    "samp_mean_after = np.mean(df[after])\n",
    "\n",
    "samp_std_before = np.std(df[before], ddof = 1)\n",
    "samp_std_after = np.std(df[after], ddof = 1)"
   ]
  },
  {
   "cell_type": "markdown",
   "metadata": {},
   "source": [
    "## Measure the dispersion in both and interpret the results."
   ]
  },
  {
   "cell_type": "code",
   "execution_count": 10,
   "metadata": {},
   "outputs": [
    {
     "data": {
      "text/plain": [
       "(43.53727272727273, 47.444848484848485)"
      ]
     },
     "execution_count": 10,
     "metadata": {},
     "output_type": "execute_result"
    }
   ],
   "source": [
    "var_before = statistics.variance(df[before])\n",
    "var_after = statistics.variance(df[after])\n",
    "var_before, var_after"
   ]
  },
  {
   "cell_type": "markdown",
   "metadata": {},
   "source": [
    "We observe that the dispersion of the \"Blood Pressure After\" has higher variance compared to \"Blood Pressure Before.\" This means that \"BP After\" shows more deviation from the mean i.e. it is more spread out compared to \"BP Before\""
   ]
  },
  {
   "cell_type": "markdown",
   "metadata": {},
   "source": [
    "## Calculate mean and 5% confidence interval and plot it in a graph"
   ]
  },
  {
   "cell_type": "code",
   "execution_count": 39,
   "metadata": {},
   "outputs": [
    {
     "data": {
      "text/plain": [
       "-1.9599639845400545"
      ]
     },
     "execution_count": 39,
     "metadata": {},
     "output_type": "execute_result"
    }
   ],
   "source": [
    "alpha = 0.05\n",
    "z_alpha_by2 = stats.norm.ppf(alpha/2)\n",
    "z_alpha_by2"
   ]
  },
  {
   "cell_type": "markdown",
   "metadata": {},
   "source": [
    "**BLOOD PRESSURE BEFORE:**"
   ]
  },
  {
   "cell_type": "code",
   "execution_count": 40,
   "metadata": {},
   "outputs": [
    {
     "name": "stdout",
     "output_type": "stream",
     "text": [
      "Confidence interval for \"BP Before\" with 5% significance at [ mean 133.91 ] \n",
      "is between [ 54.36 and 213.46 ]\n"
     ]
    }
   ],
   "source": [
    "moe_before = - z_alpha_by2 * (samp_mean_before/(samp_std_before*(1/2)))\n",
    "lower_bound_before = round(samp_mean_before - moe_before, 2)\n",
    "upper_bound_before = round(samp_mean_before + moe_before, 2)\n",
    "\n",
    "print (f'Confidence interval for \"BP Before\" with 5% significance at [ mean {samp_mean_before} ] \\nis between [ {lower_bound_before} and {upper_bound_before} ]')"
   ]
  },
  {
   "cell_type": "code",
   "execution_count": 50,
   "metadata": {},
   "outputs": [
    {
     "data": {
      "image/png": "[encoded data removed]",
      "text/plain": [
       "<Figure size 1080x504 with 1 Axes>"
      ]
     },
     "metadata": {
      "needs_background": "light"
     },
     "output_type": "display_data"
    }
   ],
   "source": [
    "plt.figure(figsize=(15,7))\n",
    "plt.title(\"Distribution: Blood Pressure Before\")\n",
    "sns.distplot(df[before], color = 'violet')\n",
    "plt.axvline(x = lower_bound_before, color = 'yellow')\n",
    "plt.axvline(x = upper_bound_before, color = 'yellow')\n",
    "plt.axvline(x = samp_mean_before, color = 'black')\n",
    "plt.show()"
   ]
  },
  {
   "cell_type": "markdown",
   "metadata": {},
   "source": [
    "**BLOOD PRESSURE AFTER:**"
   ]
  },
  {
   "cell_type": "code",
   "execution_count": 41,
   "metadata": {},
   "outputs": [
    {
     "name": "stdout",
     "output_type": "stream",
     "text": [
      "Confidence interval for \"BP after\" with 5% significance at [ mean 128.36 ] \n",
      "is between [ 55.31 and 201.41 ]\n"
     ]
    }
   ],
   "source": [
    "moe_after = - z_alpha_by2 * (samp_mean_after/(samp_std_after*(1/2)))\n",
    "lower_bound_after = round(samp_mean_after - moe_after, 2)\n",
    "upper_bound_after = round(samp_mean_after + moe_after, 2)\n",
    "\n",
    "print (f'Confidence interval for \"BP after\" with 5% significance at [ mean {samp_mean_after} ] \\nis between [ {lower_bound_after} and {upper_bound_after} ]')"
   ]
  },
  {
   "cell_type": "code",
   "execution_count": 51,
   "metadata": {},
   "outputs": [
    {
     "data": {
      "image/png": "[encoded data removed]",
      "text/plain": [
       "<Figure size 1080x504 with 1 Axes>"
      ]
     },
     "metadata": {
      "needs_background": "light"
     },
     "output_type": "display_data"
    }
   ],
   "source": [
    "plt.figure(figsize=(15,7))\n",
    "plt.title(\"Distribution: Blood Pressure after\")\n",
    "sns.distplot(df[after], color = 'violet')\n",
    "plt.axvline(x = lower_bound_after, color = 'yellow')\n",
    "plt.axvline(x = upper_bound_after, color = 'yellow')\n",
    "plt.axvline(x = samp_mean_after, color = 'black')\n",
    "plt.show()"
   ]
  },
  {
   "cell_type": "markdown",
   "metadata": {},
   "source": [
    "## Calculate the Mean absolute deviation and Standard deviation and interpret the results."
   ]
  },
  {
   "cell_type": "code",
   "execution_count": 61,
   "metadata": {},
   "outputs": [
    {
     "name": "stdout",
     "output_type": "stream",
     "text": [
      "Blood Pressure Before\n",
      "Mean Absolute Deviation:\t 5.71\n",
      "Standard Deviation:\t\t 6.57\n",
      "\n",
      "Blood Pressure after\n",
      "Mean Absolute Deviation:\t 5.9\n",
      "Standard Deviation:\t\t 6.85\n"
     ]
    }
   ],
   "source": [
    "# Before\n",
    "mean_absolute_deviation_before = round(df[before].mad(),2)\n",
    "standard_deviation_before = round(np.std(df[before]),2)\n",
    "\n",
    "print(\"Blood Pressure Before\")\n",
    "print(\"Mean Absolute Deviation:\\t\", mean_absolute_deviation_before)\n",
    "print(\"Standard Deviation:\\t\\t\", standard_deviation_before)\n",
    "print()\n",
    "\n",
    "# After\n",
    "mean_absolute_deviation_after = round(df[after].mad(),2)\n",
    "standard_deviation_after = round(np.std(df[after]),2)\n",
    "\n",
    "print(\"Blood Pressure after\")\n",
    "print(\"Mean Absolute Deviation:\\t\", mean_absolute_deviation_after)\n",
    "print(\"Standard Deviation:\\t\\t\", standard_deviation_after)"
   ]
  },
  {
   "cell_type": "code",
   "execution_count": 58,
   "metadata": {},
   "outputs": [
    {
     "data": {
      "text/plain": [
       "1.0426179604261796"
      ]
     },
     "execution_count": 58,
     "metadata": {},
     "output_type": "execute_result"
    }
   ],
   "source": [
    "6.85/6.57"
   ]
  },
  {
   "cell_type": "markdown",
   "metadata": {},
   "source": [
    "We observe initially that there is variablilty in blood pressures both before and after the treatment. This is evident by the MAD and Standard Deviation values of 5.71 and 6.57 for \"Before\" and, similarly 5.9 and 6.85 respectively for \"After.\"\n",
    "\n",
    "We also observe that there is a slight increase in the dispersion values after the treatment by a factor of 1.04, which means that the treatment might be affecting the BP of the participants. But to validate this claim we can do a paired t-test to ascertain the statistical significance of this change."
   ]
  },
  {
   "cell_type": "code",
   "execution_count": 63,
   "metadata": {},
   "outputs": [
    {
     "data": {
      "text/plain": [
       "(38.40500458621546, 2.817165090364283e-61)"
      ]
     },
     "execution_count": 63,
     "metadata": {},
     "output_type": "execute_result"
    }
   ],
   "source": [
    "from scipy.stats import ttest_rel\n",
    "\n",
    "t_statistic, p_value = ttest_rel(df[before], df[after])\n",
    "t_statistic, p_value"
   ]
  },
  {
   "cell_type": "markdown",
   "metadata": {},
   "source": [
    "We can see that if we take a significance level of 0.05%, the pvalue is much less than that and hence we can confirm that the two samples are statistically different from each other"
   ]
  },
  {
   "cell_type": "markdown",
   "metadata": {},
   "source": [
    "## Calculate the correlation coefficient and check the significance of it at 1% level of significance."
   ]
  },
  {
   "cell_type": "code",
   "execution_count": 67,
   "metadata": {},
   "outputs": [
    {
     "data": {
      "text/html": [
       "<div>\n",
       "<style scoped>\n",
       "    .dataframe tbody tr th:only-of-type {\n",
       "        vertical-align: middle;\n",
       "    }\n",
       "\n",
       "    .dataframe tbody tr th {\n",
       "        vertical-align: top;\n",
       "    }\n",
       "\n",
       "    .dataframe thead th {\n",
       "        text-align: right;\n",
       "    }\n",
       "</style>\n",
       "<table border=\"1\" class=\"dataframe\">\n",
       "  <thead>\n",
       "    <tr style=\"text-align: right;\">\n",
       "      <th></th>\n",
       "      <th>Blood Pressure Before (mmHg)</th>\n",
       "      <th>Blood Pressure After (mmHg)</th>\n",
       "    </tr>\n",
       "  </thead>\n",
       "  <tbody>\n",
       "    <tr>\n",
       "      <th>Blood Pressure Before (mmHg)</th>\n",
       "      <td>1.000000</td>\n",
       "      <td>0.977949</td>\n",
       "    </tr>\n",
       "    <tr>\n",
       "      <th>Blood Pressure After (mmHg)</th>\n",
       "      <td>0.977949</td>\n",
       "      <td>1.000000</td>\n",
       "    </tr>\n",
       "  </tbody>\n",
       "</table>\n",
       "</div>"
      ],
      "text/plain": [
       "                                Blood Pressure Before (mmHg)  \\\n",
       " Blood Pressure Before (mmHg)                       1.000000   \n",
       " Blood Pressure After (mmHg)                        0.977949   \n",
       "\n",
       "                                Blood Pressure After (mmHg)  \n",
       " Blood Pressure Before (mmHg)                      0.977949  \n",
       " Blood Pressure After (mmHg)                       1.000000  "
      ]
     },
     "execution_count": 67,
     "metadata": {},
     "output_type": "execute_result"
    }
   ],
   "source": [
    "df[[before,after]].corr(method = 'pearson')"
   ]
  },
  {
   "cell_type": "code",
   "execution_count": 68,
   "metadata": {},
   "outputs": [
    {
     "data": {
      "text/html": [
       "<div>\n",
       "<style scoped>\n",
       "    .dataframe tbody tr th:only-of-type {\n",
       "        vertical-align: middle;\n",
       "    }\n",
       "\n",
       "    .dataframe tbody tr th {\n",
       "        vertical-align: top;\n",
       "    }\n",
       "\n",
       "    .dataframe thead th {\n",
       "        text-align: right;\n",
       "    }\n",
       "</style>\n",
       "<table border=\"1\" class=\"dataframe\">\n",
       "  <thead>\n",
       "    <tr style=\"text-align: right;\">\n",
       "      <th></th>\n",
       "      <th>Blood Pressure Before (mmHg)</th>\n",
       "      <th>Blood Pressure After (mmHg)</th>\n",
       "    </tr>\n",
       "  </thead>\n",
       "  <tbody>\n",
       "    <tr>\n",
       "      <th>Blood Pressure Before (mmHg)</th>\n",
       "      <td>1.000000</td>\n",
       "      <td>0.971425</td>\n",
       "    </tr>\n",
       "    <tr>\n",
       "      <th>Blood Pressure After (mmHg)</th>\n",
       "      <td>0.971425</td>\n",
       "      <td>1.000000</td>\n",
       "    </tr>\n",
       "  </tbody>\n",
       "</table>\n",
       "</div>"
      ],
      "text/plain": [
       "                                Blood Pressure Before (mmHg)  \\\n",
       " Blood Pressure Before (mmHg)                       1.000000   \n",
       " Blood Pressure After (mmHg)                        0.971425   \n",
       "\n",
       "                                Blood Pressure After (mmHg)  \n",
       " Blood Pressure Before (mmHg)                      0.971425  \n",
       " Blood Pressure After (mmHg)                       1.000000  "
      ]
     },
     "execution_count": 68,
     "metadata": {},
     "output_type": "execute_result"
    }
   ],
   "source": [
    "df[[before,after]].corr(method = 'spearman')"
   ]
  },
  {
   "cell_type": "code",
   "execution_count": 70,
   "metadata": {},
   "outputs": [
    {
     "data": {
      "text/html": [
       "<div>\n",
       "<style scoped>\n",
       "    .dataframe tbody tr th:only-of-type {\n",
       "        vertical-align: middle;\n",
       "    }\n",
       "\n",
       "    .dataframe tbody tr th {\n",
       "        vertical-align: top;\n",
       "    }\n",
       "\n",
       "    .dataframe thead th {\n",
       "        text-align: right;\n",
       "    }\n",
       "</style>\n",
       "<table border=\"1\" class=\"dataframe\">\n",
       "  <thead>\n",
       "    <tr style=\"text-align: right;\">\n",
       "      <th></th>\n",
       "      <th>Blood Pressure Before (mmHg)</th>\n",
       "      <th>Blood Pressure After (mmHg)</th>\n",
       "    </tr>\n",
       "  </thead>\n",
       "  <tbody>\n",
       "    <tr>\n",
       "      <th>Blood Pressure Before (mmHg)</th>\n",
       "      <td>1.000000</td>\n",
       "      <td>0.892577</td>\n",
       "    </tr>\n",
       "    <tr>\n",
       "      <th>Blood Pressure After (mmHg)</th>\n",
       "      <td>0.892577</td>\n",
       "      <td>1.000000</td>\n",
       "    </tr>\n",
       "  </tbody>\n",
       "</table>\n",
       "</div>"
      ],
      "text/plain": [
       "                                Blood Pressure Before (mmHg)  \\\n",
       " Blood Pressure Before (mmHg)                       1.000000   \n",
       " Blood Pressure After (mmHg)                        0.892577   \n",
       "\n",
       "                                Blood Pressure After (mmHg)  \n",
       " Blood Pressure Before (mmHg)                      0.892577  \n",
       " Blood Pressure After (mmHg)                       1.000000  "
      ]
     },
     "execution_count": 70,
     "metadata": {},
     "output_type": "execute_result"
    }
   ],
   "source": [
    "df[[before,after]].corr(method = 'kendall')"
   ]
  },
  {
   "cell_type": "markdown",
   "metadata": {},
   "source": [
    "From the above three correlation coefficients we can conclude that the two variables have a **very strong linear correlation** given high value of pearson's correlation coefficient, compared to Spearman's coefficient and Kendals tau coefficient.\n",
    "\n",
    "To ascertain the statistical significance of this result. We test the pearsons corelation coefficient of **0.9779** at 1% significance."
   ]
  },
  {
   "cell_type": "code",
   "execution_count": 71,
   "metadata": {},
   "outputs": [
    {
     "data": {
      "text/plain": [
       "(0.9779485966556027, 1.8097381433033208e-68)"
      ]
     },
     "execution_count": 71,
     "metadata": {},
     "output_type": "execute_result"
    }
   ],
   "source": [
    "from scipy.stats import pearsonr\n",
    "corr_coef, p_value = pearsonr(df[before], df[after])\n",
    "\n",
    "corr_coef, p_value"
   ]
  },
  {
   "cell_type": "code",
   "execution_count": 72,
   "metadata": {},
   "outputs": [
    {
     "data": {
      "text/plain": [
       "True"
      ]
     },
     "execution_count": 72,
     "metadata": {},
     "output_type": "execute_result"
    }
   ],
   "source": [
    "p_value < 0.01"
   ]
  },
  {
   "cell_type": "markdown",
   "metadata": {},
   "source": [
    "Since the p_value is less than the given significance level of 1%. Therefore, we can conclude that the correlation is **statistically significant** at a significance level of 1%. Which means that there is less than 1% probability of getting a correlation value this strong."
   ]
  }
 ],
 "metadata": {
  "kernelspec": {
   "display_name": "Python 3",
   "language": "python",
   "name": "python3"
  },
  "language_info": {
   "codemirror_mode": {
    "name": "ipython",
    "version": 3
   },
   "file_extension": ".py",
   "mimetype": "text/x-python",
   "name": "python",
   "nbconvert_exporter": "python",
   "pygments_lexer": "ipython3",
   "version": "3.8.5"
  }
 },
 "nbformat": 4,
 "nbformat_minor": 4
}
