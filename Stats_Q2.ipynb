{
 "cells": [
  {
   "cell_type": "markdown",
   "metadata": {},
   "source": [
    "# Q-2.\n",
    "\n",
    "Consider a dataset containing the heights (in centimeters) of 1000 individuals. The mean height is 170 cm with a standard deviation of 10 cm. The dataset is approximately normally distributed, and its skewness is approximately zero. Based on this information, answer the following questions:\n",
    "\n",
    "* What percentage of individuals in the dataset have heights between 160 cm and 180 cm?\n",
    "* If we randomly select 100 individuals from the dataset, what is the probability that their average height is greater than 175 cm?\n",
    "* Assuming the dataset follows a normal distribution, what is the z-score corresponding to a height of 185 cm?\n",
    "* We know that 5% of the dataset has heights below a certain value. What is the approximate height corresponding to this threshold?\n",
    "* Calculate the coefficient of variation (CV) for the dataset.\n",
    "* Calculate the skewness of the dataset and interpret the result."
   ]
  },
  {
   "cell_type": "code",
   "execution_count": 14,
   "metadata": {},
   "outputs": [],
   "source": [
    "import scipy.stats as stats"
   ]
  },
  {
   "cell_type": "markdown",
   "metadata": {},
   "source": [
    "### Given"
   ]
  },
  {
   "cell_type": "code",
   "execution_count": 7,
   "metadata": {},
   "outputs": [],
   "source": [
    "n = 1000\n",
    "mu = 170\n",
    "sigma = 10"
   ]
  },
  {
   "cell_type": "markdown",
   "metadata": {},
   "source": [
    "**What percentage of individuals in the dataset have heights between 160 cm and 180 cm?**"
   ]
  },
  {
   "cell_type": "code",
   "execution_count": 12,
   "metadata": {},
   "outputs": [
    {
     "name": "stdout",
     "output_type": "stream",
     "text": [
      "68.27 %\n"
     ]
    }
   ],
   "source": [
    "val = (stats.norm.sf(160 ,loc = mu, scale = sigma) - stats.norm.sf(180 ,loc = mu, scale = sigma))*100\n",
    "print (round(val , 2),'%')"
   ]
  },
  {
   "cell_type": "markdown",
   "metadata": {},
   "source": [
    "**If we randomly select 100 individuals from the dataset, what is the probability that their average height is greater than 175 cm?**"
   ]
  },
  {
   "cell_type": "code",
   "execution_count": 13,
   "metadata": {},
   "outputs": [
    {
     "name": "stdout",
     "output_type": "stream",
     "text": [
      "0.31\n"
     ]
    }
   ],
   "source": [
    "val = stats.norm.sf(175, loc = mu, scale = sigma)\n",
    "print(round(val, 2))"
   ]
  },
  {
   "cell_type": "markdown",
   "metadata": {},
   "source": [
    "**Assuming the dataset follows a normal distribution, what is the z-score corresponding to a height of 185 cm?**"
   ]
  },
  {
   "cell_type": "code",
   "execution_count": 16,
   "metadata": {},
   "outputs": [
    {
     "name": "stdout",
     "output_type": "stream",
     "text": [
      "1.5\n"
     ]
    }
   ],
   "source": [
    "x = 185\n",
    "z_score = (x - mu)/sigma\n",
    "print(round(z_score,2))"
   ]
  },
  {
   "cell_type": "markdown",
   "metadata": {},
   "source": [
    "**We know that 5% of the dataset has heights below a certain value. What is the approximate height corresponding to this threshold?**"
   ]
  },
  {
   "cell_type": "code",
   "execution_count": 18,
   "metadata": {},
   "outputs": [
    {
     "name": "stdout",
     "output_type": "stream",
     "text": [
      "153.55\n"
     ]
    }
   ],
   "source": [
    "percentile = 0.05\n",
    "val = stats.norm.ppf(percentile, loc = mu, scale = sigma)\n",
    "print(round(val,2))"
   ]
  },
  {
   "cell_type": "markdown",
   "metadata": {},
   "source": [
    "**Calculate the coefficient of variation (CV) for the dataset.**"
   ]
  },
  {
   "cell_type": "code",
   "execution_count": 20,
   "metadata": {},
   "outputs": [
    {
     "name": "stdout",
     "output_type": "stream",
     "text": [
      "5.88 %\n"
     ]
    }
   ],
   "source": [
    "CV = (sigma/mu)*100\n",
    "print(round(CV,2), '%')"
   ]
  },
  {
   "cell_type": "markdown",
   "metadata": {},
   "source": [
    "**Calculate the skewness of the dataset and interpret the result.**"
   ]
  },
  {
   "cell_type": "markdown",
   "metadata": {},
   "source": [
    "The skewness of the dataset is given to be zero, which means the data is balances on both sides of the mean with no disbalance on either side. Based on the given information we cannot calculate the actual skewness of the data since we donot have the individual datapoints."
   ]
  }
 ],
 "metadata": {
  "kernelspec": {
   "display_name": "Python 3",
   "language": "python",
   "name": "python3"
  },
  "language_info": {
   "codemirror_mode": {
    "name": "ipython",
    "version": 3
   },
   "file_extension": ".py",
   "mimetype": "text/x-python",
   "name": "python",
   "nbconvert_exporter": "python",
   "pygments_lexer": "ipython3",
   "version": "3.8.5"
  }
 },
 "nbformat": 4,
 "nbformat_minor": 4
}
